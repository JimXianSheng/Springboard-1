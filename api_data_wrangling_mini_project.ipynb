{
 "cells": [
  {
   "cell_type": "markdown",
   "metadata": {},
   "source": [
    "This exercise will require you to pull some data from the Qunadl API. Qaundl is currently the most widely used aggregator of financial market data."
   ]
  },
  {
   "cell_type": "markdown",
   "metadata": {},
   "source": [
    "As a first step, you will need to register a free account on the http://www.quandl.com website."
   ]
  },
  {
   "cell_type": "markdown",
   "metadata": {},
   "source": [
    "After you register, you will be provided with a unique API key, that you should store:"
   ]
  },
  {
   "cell_type": "code",
   "execution_count": 5,
   "metadata": {},
   "outputs": [],
   "source": [
    "# Store the API key as a string - according to PEP8, constants are always named in all upper case\n",
    "API_KEY = '..........'"
   ]
  },
  {
   "cell_type": "markdown",
   "metadata": {},
   "source": [
    "Qaundl has a large number of data sources, but, unfortunately, most of them require a Premium subscription. Still, there are also a good number of free datasets."
   ]
  },
  {
   "cell_type": "markdown",
   "metadata": {},
   "source": [
    "For this mini project, we will focus on equities data from the Frankfurt Stock Exhange (FSE), which is available for free. We'll try and analyze the stock prices of a company called Carl Zeiss Meditec, which manufactures tools for eye examinations, as well as medical lasers for laser eye surgery: https://www.zeiss.com/meditec/int/home.html. The company is listed under the stock ticker AFX_X."
   ]
  },
  {
   "cell_type": "markdown",
   "metadata": {},
   "source": [
    "You can find the detailed Quandl API instructions here: https://docs.quandl.com/docs/time-series"
   ]
  },
  {
   "cell_type": "markdown",
   "metadata": {},
   "source": [
    "While there is a dedicated Python package for connecting to the Quandl API, we would prefer that you use the *requests* package, which can be easily downloaded using *pip* or *conda*. You can find the documentation for the package here: http://docs.python-requests.org/en/master/ "
   ]
  },
  {
   "cell_type": "markdown",
   "metadata": {},
   "source": [
    "Finally, apart from the *requests* package, you are encouraged to not use any third party Python packages, such as *pandas*, and instead focus on what's available in the Python Standard Library (the *collections* module might come in handy: https://pymotw.com/3/collections/ ).\n",
    "Also, since you won't have access to DataFrames, you are encouraged to us Python's native data structures - preferably dictionaries, though some questions can also be answered using lists.\n",
    "You can read more on these data structures here: https://docs.python.org/3/tutorial/datastructures.html"
   ]
  },
  {
   "cell_type": "markdown",
   "metadata": {},
   "source": [
    "Keep in mind that the JSON responses you will be getting from the API map almost one-to-one to Python's dictionaries. Unfortunately, they can be very nested, so make sure you read up on indexing dictionaries in the documentation provided above."
   ]
  },
  {
   "cell_type": "code",
   "execution_count": 6,
   "metadata": {},
   "outputs": [],
   "source": [
    "# First, import the relevant modules\n",
    "import requests\n",
    "import collections\n"
   ]
  },
  {
   "cell_type": "code",
   "execution_count": 13,
   "metadata": {},
   "outputs": [
    {
     "data": {
      "text/plain": [
       "200"
      ]
     },
     "execution_count": 13,
     "metadata": {},
     "output_type": "execute_result"
    }
   ],
   "source": [
    "# Now, call the Quandl API and pull out a small sample of the data (only one day) to get a glimpse\n",
    "# into the JSON structure that will be returned\n",
    "url = \"https://www.quandl.com/api/v3/datasets/FSE/AFX_X.json?api_key=............\"\n",
    "r= requests.get(url)\n",
    "\n",
    "# Checking the response status code. The result should be 200 if the data is imported properly.\n",
    "r.status_code"
   ]
  },
  {
   "cell_type": "code",
   "execution_count": 31,
   "metadata": {},
   "outputs": [
    {
     "name": "stdout",
     "output_type": "stream",
     "text": [
      "dict_keys(['dataset'])\n"
     ]
    }
   ],
   "source": [
    "# Inspect the JSON structure of the object you created, and take note of how nested it is,\n",
    "# as well as the overall structure\n",
    "dict = r.json()\n",
    "print(dict.keys())"
   ]
  },
  {
   "cell_type": "code",
   "execution_count": null,
   "metadata": {},
   "outputs": [],
   "source": [
    "print(dict['dataset'].keys())\n",
    "print(dict['dataset']['data'])"
   ]
  },
  {
   "cell_type": "markdown",
   "metadata": {},
   "source": [
    "These are your tasks for this mini project:\n",
    "\n",
    "1. Collect data from the Franfurt Stock Exchange, for the ticker AFX_X, for the whole year 2017 (keep in mind that the date format is YYYY-MM-DD).\n",
    "2. Convert the returned JSON object into a Python dictionary.\n",
    "3. Calculate what the highest and lowest opening prices were for the stock in this period.\n",
    "4. What was the largest change in any one day (based on High and Low price)?\n",
    "5. What was the largest change between any two days (based on Closing Price)?\n",
    "6. What was the average daily trading volume during this year?\n",
    "7. (Optional) What was the median trading volume during this year. (Note: you may need to implement your own function for calculating the median.)"
   ]
  },
  {
   "cell_type": "code",
   "execution_count": 35,
   "metadata": {},
   "outputs": [
    {
     "data": {
      "text/plain": [
       "200"
      ]
     },
     "execution_count": 35,
     "metadata": {},
     "output_type": "execute_result"
    }
   ],
   "source": [
    "url = \"https://www.quandl.com/api/v3/datasets/FSE/AFX_X.json?&start_date=2017-01-01&end_date=2017-12-31&api_key=.........\"\n",
    "\n",
    "r2 = requests.get(url)\n",
    "r2.status_code"
   ]
  },
  {
   "cell_type": "code",
   "execution_count": 42,
   "metadata": {},
   "outputs": [
    {
     "data": {
      "text/plain": [
       "['Date',\n",
       " 'Open',\n",
       " 'High',\n",
       " 'Low',\n",
       " 'Close',\n",
       " 'Change',\n",
       " 'Traded Volume',\n",
       " 'Turnover',\n",
       " 'Last Price of the Day',\n",
       " 'Daily Traded Units',\n",
       " 'Daily Turnover']"
      ]
     },
     "execution_count": 42,
     "metadata": {},
     "output_type": "execute_result"
    }
   ],
   "source": [
    "dict2 = r2.json()\n",
    "dict2['dataset']['column_names']"
   ]
  },
  {
   "cell_type": "code",
   "execution_count": 43,
   "metadata": {},
   "outputs": [],
   "source": [
    "import numpy as np\n",
    "\n",
    "data = dict2['dataset']['data']\n",
    "list_ = []\n",
    "for i in data:\n",
    "    list_.append(i[1])\n",
    "\n",
    "np_list = np.array(list_)"
   ]
  },
  {
   "cell_type": "code",
   "execution_count": 46,
   "metadata": {},
   "outputs": [
    {
     "name": "stdout",
     "output_type": "stream",
     "text": [
      "[51.76 51.65 51.45 51.05 51.16 51.88 52.73 52.37 52.7 53.11 52.64 52.29\n",
      " 52.28 51.5 50.89 50.8 51.21 49.5 49.52 48.64 49.64 49.09 49.13 49.11 48.8\n",
      " 48.4 47.25 46.57 47.03 47.09 47.98 48.4 48.38 47.3 47.65 46.42 46.16\n",
      " 45.81 45.0 45.88 46.29 46.53 45.48 45.2 45.01 45.16 44.9 45.08 45.72\n",
      " 46.01 45.8 45.61 45.5 45.58 45.97 45.64 46.2 46.19 46.01 45.36 44.51\n",
      " 43.58 42.0 42.35 42.3 42.3 41.48 42.29 42.54 42.65 42.5 42.29 42.35 42.49\n",
      " 43.21 42.81 42.7 43.0 42.66 43.0 42.38 42.16 42.0 42.0 41.71 42.11 42.64\n",
      " 42.72 42.82 42.46 42.42 42.28 41.88 42.4 42.53 42.12 41.3 41.73 43.5 44.9\n",
      " 45.85 45.13 45.34 45.25 45.24 44.94 45.26 45.16 44.91 44.7 45.31 45.57\n",
      " 45.74 45.06 45.5 45.6 45.07 44.67 44.29 44.94 44.64 44.79 45.5 44.67\n",
      " 45.83 45.29 45.01 45.73 46.68 47.23 46.95 47.29 47.03 47.46 46.48 46.9\n",
      " 45.66 46.34 46.52 46.5 47.31 46.77 47.8 47.01 47.12 46.8 46.12 45.22\n",
      " 45.05 45.61 44.8 44.8 43.92 43.67 44.16 43.74 44.0 45.06 45.15 45.09\n",
      " 45.18 43.4 43.5 41.83 43.0 42.52 41.86 42.2 41.89 None 42.17 41.51 41.88\n",
      " 41.93 42.01 41.97 42.5 41.94 42.24 None None 42.06 42.02 41.62 41.46 40.9\n",
      " 40.96 41.1 39.5 40.15 39.77 40.02 39.39 38.95 38.73 38.94 39.01 38.25\n",
      " 41.8 41.26 41.47 41.4 41.4 41.2 41.4 41.53 41.61 41.13 41.5 41.25 41.12\n",
      " 41.38 41.19 40.38 39.75 39.77 39.72 39.6 38.85 39.25 38.8 38.8 38.5 38.81\n",
      " 37.37 36.65 36.2 35.98 35.56 36.06 36.02 35.95 34.75 35.24 35.38 34.83\n",
      " 35.07 34.42 34.0 34.04 34.54 35.04 35.04 35.06 34.85 34.98 35.38 34.95\n",
      " 34.8 35.29 34.91 35.02 35.48 35.9 34.99]\n"
     ]
    }
   ],
   "source": [
    "print(np_list)"
   ]
  },
  {
   "cell_type": "code",
   "execution_count": 47,
   "metadata": {},
   "outputs": [],
   "source": [
    "np_list = np_list[np_list != np.array(None)]"
   ]
  },
  {
   "cell_type": "code",
   "execution_count": 48,
   "metadata": {},
   "outputs": [
    {
     "name": "stdout",
     "output_type": "stream",
     "text": [
      "53.11\n",
      "34.0\n"
     ]
    }
   ],
   "source": [
    "print(max(np_list)) #Highest Open price\n",
    "print(min(np_list)) #Lowest Open price "
   ]
  },
  {
   "cell_type": "code",
   "execution_count": 54,
   "metadata": {},
   "outputs": [],
   "source": [
    "greatest = 0\n",
    "for i in data:\n",
    "    if (i[2] == 'None') or (i[3] == 'None'):\n",
    "        pass\n",
    "    else:\n",
    "        if (i[2] - i[3]) > greatest:\n",
    "            greatest = (i[2] - i[3])\n",
    "        else:\n",
    "            pass"
   ]
  },
  {
   "cell_type": "code",
   "execution_count": 55,
   "metadata": {},
   "outputs": [
    {
     "name": "stdout",
     "output_type": "stream",
     "text": [
      "2.8100000000000023\n"
     ]
    }
   ],
   "source": [
    "print(greatest) #greatest change in price between High and Low in a day"
   ]
  },
  {
   "cell_type": "code",
   "execution_count": 56,
   "metadata": {},
   "outputs": [],
   "source": [
    "list_close = []\n",
    "for i in data:\n",
    "    if i[4] != 'None':\n",
    "        list_close.append(i[4])\n",
    "    else:\n",
    "        pass"
   ]
  },
  {
   "cell_type": "code",
   "execution_count": 57,
   "metadata": {},
   "outputs": [
    {
     "name": "stdout",
     "output_type": "stream",
     "text": [
      "19.03\n"
     ]
    }
   ],
   "source": [
    "print(max(list_close) - min(list_close)) #greatest difference in Close price between any two days"
   ]
  },
  {
   "cell_type": "code",
   "execution_count": 62,
   "metadata": {},
   "outputs": [],
   "source": [
    "list_trade = []\n",
    "for i in data:\n",
    "    if i[6] != 'None':\n",
    "        list_trade.append(i[6])\n",
    "    else:\n",
    "        pass"
   ]
  },
  {
   "cell_type": "code",
   "execution_count": 63,
   "metadata": {},
   "outputs": [
    {
     "name": "stdout",
     "output_type": "stream",
     "text": [
      "89124.33725490196\n"
     ]
    }
   ],
   "source": [
    "print(sum(list_trade) / len(list_trade)) #Average Trading Volume by day for 2017"
   ]
  },
  {
   "cell_type": "code",
   "execution_count": 64,
   "metadata": {},
   "outputs": [
    {
     "name": "stdout",
     "output_type": "stream",
     "text": [
      "76286.0\n"
     ]
    }
   ],
   "source": [
    "import statistics\n",
    "\n",
    "print(statistics.median(list_trade)) #Median Trading Volume"
   ]
  }
 ],
 "metadata": {
  "kernelspec": {
   "display_name": "Python 3",
   "language": "python",
   "name": "python3"
  },
  "language_info": {
   "codemirror_mode": {
    "name": "ipython",
    "version": 3
   },
   "file_extension": ".py",
   "mimetype": "text/x-python",
   "name": "python",
   "nbconvert_exporter": "python",
   "pygments_lexer": "ipython3",
   "version": "3.8.3"
  }
 },
 "nbformat": 4,
 "nbformat_minor": 2
}
