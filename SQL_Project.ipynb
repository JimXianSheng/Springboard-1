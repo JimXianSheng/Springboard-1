{
 "cells": [
  {
   "cell_type": "markdown",
   "metadata": {},
   "source": [
    "Q1"
   ]
  },
  {
   "cell_type": "code",
   "execution_count": null,
   "metadata": {},
   "outputs": [],
   "source": [
    "SELECT count(*) FROM `Facilities` WHERE membercost <> 0"
   ]
  },
  {
   "cell_type": "markdown",
   "metadata": {},
   "source": [
    "Q2"
   ]
  },
  {
   "cell_type": "code",
   "execution_count": null,
   "metadata": {},
   "outputs": [],
   "source": [
    "SELECT count(*) FROM `Facilities` WHERE membercost > 0"
   ]
  },
  {
   "cell_type": "markdown",
   "metadata": {},
   "source": [
    "Q3"
   ]
  },
  {
   "cell_type": "code",
   "execution_count": null,
   "metadata": {},
   "outputs": [],
   "source": [
    "SELECT membercost, facid, name, monthlymaintenance FROM `Facilities` WHERE membercost < 0.2*monthlymaintenance"
   ]
  },
  {
   "cell_type": "markdown",
   "metadata": {},
   "source": [
    "Q4"
   ]
  },
  {
   "cell_type": "code",
   "execution_count": null,
   "metadata": {},
   "outputs": [],
   "source": [
    "SELECT * FROM `Facilities` WHERE facid IN (1,5)"
   ]
  },
  {
   "cell_type": "markdown",
   "metadata": {},
   "source": [
    "Q5"
   ]
  },
  {
   "cell_type": "code",
   "execution_count": null,
   "metadata": {},
   "outputs": [],
   "source": [
    "SELECT name, monthlymaintenance,\n",
    "    case \n",
    "\t\twhen monthlymaintenance > 1000 THEN 'Expensive'\n",
    "     \tELSE 'Cheap'\n",
    "\t\tEND AS cost\n",
    "\n",
    "FROM `Facilities`"
   ]
  },
  {
   "cell_type": "markdown",
   "metadata": {},
   "source": [
    "Q6"
   ]
  },
  {
   "cell_type": "code",
   "execution_count": null,
   "metadata": {},
   "outputs": [],
   "source": [
    "SELECT firstname, surname, joindate\n",
    "\n",
    "FROM `Members`\n",
    "\n",
    "HAVING max(joindate)"
   ]
  },
  {
   "cell_type": "markdown",
   "metadata": {},
   "source": [
    "Q7"
   ]
  },
  {
   "cell_type": "code",
   "execution_count": null,
   "metadata": {},
   "outputs": [],
   "source": [
    "SELECT DISTINCT m.surname AS surname, f.name AS facility\n",
    "\n",
    "FROM  `Members` m\n",
    "\n",
    "JOIN  `Bookings` AS b ON m.memid = b.memid\n",
    "\n",
    "JOIN  `Facilities` AS f ON b.facid = f.facid\n",
    "\n",
    "WHERE b.facid\n",
    "\n",
    "IN ( 0, 1 )\n",
    "\n",
    "ORDER BY surnames"
   ]
  },
  {
   "cell_type": "markdown",
   "metadata": {},
   "source": [
    "/* Q8: Produce a list of bookings on the day of 2012-09-14 which\n",
    "will cost the member (or guest) more than $30. Remember that guests have\n",
    "different costs to members (the listed costs are per half-hour 'slot'), and\n",
    "the guest user's ID is always 0. Include in your output the name of the\n",
    "facility, the name of the member formatted as a single column, and the cost.\n",
    "Order by descending cost, and do not use any subqueries. */"
   ]
  },
  {
   "cell_type": "code",
   "execution_count": null,
   "metadata": {},
   "outputs": [],
   "source": [
    "SELECT\n",
    "CONCAT(firstname,  ' ', surname) AS member,\n",
    "name AS facility,\n",
    "CASE WHEN firstname = 'GUEST' THEN guestcost * slots ELSE membercost * slots END AS cost\n",
    "FROM Members\n",
    "INNER JOIN Bookings\n",
    "ON Members.memid = Bookings.memid\n",
    "INNER JOIN Facilities\n",
    "ON Bookings.facid = Facilities.facid\n",
    "WHERE starttime >= '2012-09-14' AND starttime < '2012-09-15'\n",
    "AND CASE WHEN firstname = 'GUEST' THEN guestcost * slots ELSE membercost * slots END > 30\n",
    "ORDER BY cost DESC;"
   ]
  },
  {
   "cell_type": "markdown",
   "metadata": {},
   "source": [
    "Q9"
   ]
  },
  {
   "cell_type": "code",
   "execution_count": null,
   "metadata": {},
   "outputs": [],
   "source": [
    "SELECT\n",
    "CONCAT(firstname, ' ', surname) AS member,\n",
    "name AS facility,\n",
    "cost\n",
    "FROM\n",
    "(SELECT\n",
    "firstname,\n",
    "surname,\n",
    "name,\n",
    "CASE WHEN firstname = 'GUEST' THEN guestcost * slots ELSE membercost * slots END AS cost,\n",
    "starttime\n",
    "FROM Members\n",
    "INNER JOIN Bookings\n",
    "ON Members.memid = Bookings.memid\n",
    "INNER JOIN Facilities\n",
    "ON Bookings.facid = Facilities.facid) AS inner_table\n",
    "WHERE starttime >= '2012-09-14' AND starttime < '2012-09-15'\n",
    "AND cost > 30\n",
    "ORDER BY cost DESC;"
   ]
  },
  {
   "cell_type": "markdown",
   "metadata": {},
   "source": [
    "Q10  Produce a list of facilities with a total revenue less than 1000.\n",
    "The output of facility name and total revenue, sorted by revenue. Remember\n",
    "that there's a different cost for guests and members! */"
   ]
  },
  {
   "cell_type": "code",
   "execution_count": null,
   "metadata": {},
   "outputs": [],
   "source": [
    "SELECT\n",
    "name,\n",
    "SUM(CASE WHEN memid = 0 THEN guestcost * slots ELSE membercost * slots END) AS revenue\n",
    "FROM Bookings INNER JOIN Facilities\n",
    "ON Bookings.facid = Facilities.facid\n",
    "GROUP BY name\n",
    "\n",
    "Having revenue < 1000"
   ]
  },
  {
   "cell_type": "code",
   "execution_count": null,
   "metadata": {},
   "outputs": [],
   "source": [
    "Q11"
   ]
  },
  {
   "cell_type": "code",
   "execution_count": null,
   "metadata": {},
   "outputs": [],
   "source": []
  }
 ],
 "metadata": {
  "kernelspec": {
   "display_name": "Python 3",
   "language": "python",
   "name": "python3"
  },
  "language_info": {
   "codemirror_mode": {
    "name": "ipython",
    "version": 3
   },
   "file_extension": ".py",
   "mimetype": "text/x-python",
   "name": "python",
   "nbconvert_exporter": "python",
   "pygments_lexer": "ipython3",
   "version": "3.8.3"
  }
 },
 "nbformat": 4,
 "nbformat_minor": 4
}
