{
 "cells": [
  {
   "cell_type": "markdown",
   "metadata": {
    "colab_type": "text",
    "id": "Tia3MP1SJpgj"
   },
   "source": [
    "# Springboard Data Science Career Track Unit 4 Challenge - Tier 3 Complete\n",
    "\n",
    "## Objectives\n",
    "Hey! Great job getting through those challenging DataCamp courses. You're learning a lot in a short span of time. \n",
    "\n",
    "In this notebook, you're going to apply the skills you've been learning, bridging the gap between the controlled environment of DataCamp and the *slightly* messier work that data scientists do with actual datasets!\n",
    "\n",
    "Here’s the mystery we’re going to solve: ***which boroughs of London have seen the greatest increase in housing prices, on average, over the last two decades?***\n",
    "\n",
    "\n",
    "A borough is just a fancy word for district. You may be familiar with the five boroughs of New York… well, there are 32 boroughs within Greater London [(here's some info for the curious)](https://en.wikipedia.org/wiki/London_boroughs). Some of them are more desirable areas to live in, and the data will reflect that with a greater rise in housing prices.\n",
    "\n",
    "***This is the Tier 3 notebook, which means it's not filled in at all: we'll just give you the skeleton of a project, the brief and the data. It's up to you to play around with it and see what you can find out! Good luck! If you struggle, feel free to look at easier tiers for help; but try to dip in and out of them, as the more independent work you do, the better it is for your learning!***\n",
    "\n",
    "This challenge will make use of only what you learned in the following DataCamp courses: \n",
    "- Prework courses (Introduction to Python for Data Science, Intermediate Python for Data Science)\n",
    "- Data Types for Data Science\n",
    "- Python Data Science Toolbox (Part One) \n",
    "- pandas Foundations\n",
    "- Manipulating DataFrames with pandas\n",
    "- Merging DataFrames with pandas\n",
    "\n",
    "Of the tools, techniques and concepts in the above DataCamp courses, this challenge should require the application of the following: \n",
    "- **pandas**\n",
    "    - **data ingestion and inspection** (pandas Foundations, Module One) \n",
    "    - **exploratory data analysis** (pandas Foundations, Module Two)\n",
    "    - **tidying and cleaning** (Manipulating DataFrames with pandas, Module Three) \n",
    "    - **transforming DataFrames** (Manipulating DataFrames with pandas, Module One)\n",
    "    - **subsetting DataFrames with lists** (Manipulating DataFrames with pandas, Module One) \n",
    "    - **filtering DataFrames** (Manipulating DataFrames with pandas, Module One) \n",
    "    - **grouping data** (Manipulating DataFrames with pandas, Module Four) \n",
    "    - **melting data** (Manipulating DataFrames with pandas, Module Three) \n",
    "    - **advanced indexing** (Manipulating DataFrames with pandas, Module Four) \n",
    "- **matplotlib** (Intermediate Python for Data Science, Module One)\n",
    "- **fundamental data types** (Data Types for Data Science, Module One) \n",
    "- **dictionaries** (Intermediate Python for Data Science, Module Two)\n",
    "- **handling dates and times** (Data Types for Data Science, Module Four)\n",
    "- **function definition** (Python Data Science Toolbox - Part One, Module One)\n",
    "- **default arguments, variable length, and scope** (Python Data Science Toolbox - Part One, Module Two) \n",
    "- **lambda functions and error handling** (Python Data Science Toolbox - Part One, Module Four) "
   ]
  },
  {
   "cell_type": "markdown",
   "metadata": {
    "colab_type": "text",
    "id": "Ipgd2nV8Jpgl"
   },
   "source": [
    "## The Data Science Pipeline\n",
    "\n",
    "This is Tier Three, so we'll get you started. But after that, it's all in your hands! When you feel done with your investigations, look back over what you've accomplished, and prepare a quick presentation of your findings for the next mentor meeting. \n",
    "\n",
    "Data Science is magical. In this case study, you'll get to apply some complex machine learning algorithms. But as  [David Spiegelhalter](https://www.youtube.com/watch?v=oUs1uvsz0Ok) reminds us, there is no substitute for simply **taking a really, really good look at the data.** Sometimes, this is all we need to answer our question.\n",
    "\n",
    "Data Science projects generally adhere to the four stages of Data Science Pipeline:\n",
    "1. Sourcing and loading \n",
    "2. Cleaning, transforming, and visualizing \n",
    "3. Modeling \n",
    "4. Evaluating and concluding \n"
   ]
  },
  {
   "cell_type": "markdown",
   "metadata": {
    "colab_type": "text",
    "id": "zswDqbefJpgm"
   },
   "source": [
    "### 1. Sourcing and Loading \n",
    "\n",
    "Any Data Science project kicks off by importing  ***pandas***. The documentation of this wonderful library can be found [here](https://pandas.pydata.org/). As you've seen, pandas is conveniently connected to the [Numpy](http://www.numpy.org/) and [Matplotlib](https://matplotlib.org/) libraries. \n",
    "\n",
    "***Hint:*** This part of the data science pipeline will test those skills you acquired in the pandas Foundations course, Module One. "
   ]
  },
  {
   "cell_type": "markdown",
   "metadata": {
    "colab_type": "text",
    "id": "aEau5nEvJpgm"
   },
   "source": [
    "#### 1.1. Importing Libraries"
   ]
  },
  {
   "cell_type": "code",
   "execution_count": null,
   "metadata": {
    "colab": {},
    "colab_type": "code",
    "id": "7Bt_Q_oPJpgn"
   },
   "outputs": [],
   "source": [
    "# Let's import the pandas, numpy libraries as pd, and np respectively. \n",
    "import pandas as pd\n",
    "import numpy as np\n",
    "import matplotlib.pyplot as plt\n",
    "\n",
    "\n",
    "# Load the pyplot collection of functions from matplotlib, as plt \n"
   ]
  },
  {
   "cell_type": "markdown",
   "metadata": {
    "colab_type": "text",
    "id": "koUrawxsJpgq"
   },
   "source": [
    "#### 1.2.  Loading the data\n",
    "Your data comes from the [London Datastore](https://data.london.gov.uk/): a free, open-source data-sharing portal for London-oriented datasets. "
   ]
  },
  {
   "cell_type": "code",
   "execution_count": null,
   "metadata": {
    "colab": {},
    "colab_type": "code",
    "id": "AiLiD4v3Jpgr"
   },
   "outputs": [],
   "source": [
    "# First, make a variable called url_LondonHousePrices, and assign it the following link, enclosed in quotation-marks as a string:\n",
    "# https://data.london.gov.uk/download/uk-house-price-index/70ac0766-8902-4eb5-aab5-01951aaed773/UK%20House%20price%20index.xls\n",
    "\n",
    "url_LondonHousePrices = \"https://data.london.gov.uk/download/uk-house-price-index/70ac0766-8902-4eb5-aab5-01951aaed773/UK%20House%20price%20index.xls\"\n",
    "\n",
    "# The dataset we're interested in contains the Average prices of the houses, and is actually on a particular sheet of the Excel file. \n",
    "# As a result, we need to specify the sheet name in the read_excel() method.\n",
    "# Put this data into a variable called properties.  \n",
    "df = pd.read_excel(url_LondonHousePrices, sheet_name='Average price', index_col=0)"
   ]
  },
  {
   "cell_type": "markdown",
   "metadata": {
    "colab_type": "text",
    "id": "POukEJXgJpgu"
   },
   "source": [
    "### 2. Cleaning, transforming, and visualizing\n",
    "This second stage is arguably the most important part of any Data Science project. The first thing to do is take a proper look at the data. Cleaning forms the majority of this stage, and can be done both before or after Transformation.\n",
    "\n",
    "The end goal of data cleaning is to have tidy data. When data is tidy: \n",
    "\n",
    "1. Each variable has a column.\n",
    "2. Each observation forms a row.\n",
    "\n",
    "Keep the end goal in mind as you move through this process, every step will take you closer. \n",
    "\n",
    "\n",
    "\n",
    "***Hint:*** This part of the data science pipeline should test those skills you acquired in: \n",
    "- Intermediate Python for data science, all modules.\n",
    "- pandas Foundations, all modules. \n",
    "- Manipulating DataFrames with pandas, all modules.\n",
    "- Data Types for Data Science, Module Four.\n",
    "- Python Data Science Toolbox - Part One, all modules"
   ]
  },
  {
   "cell_type": "markdown",
   "metadata": {
    "colab_type": "text",
    "id": "Te0Q548tnzZa"
   },
   "source": [
    "**2.1. Exploring your data** \n",
    "\n",
    "Think about your pandas functions for checking out a dataframe. "
   ]
  },
  {
   "cell_type": "code",
   "execution_count": null,
   "metadata": {
    "colab": {},
    "colab_type": "code",
    "id": "Rxirxw_qoAJa",
    "scrolled": false
   },
   "outputs": [],
   "source": [
    "df = df.transpose()"
   ]
  },
  {
   "cell_type": "markdown",
   "metadata": {
    "colab_type": "text",
    "id": "tE9Sqt9-oAta"
   },
   "source": [
    "**2.2. Cleaning the data**\n",
    "\n",
    "You might find you need to transpose your dataframe, check out what its row indexes are, and reset the index. You  also might find you need to assign the values of the first row to your column headings  . (Hint: recall the .columns feature of DataFrames, as well as the iloc[] method).\n",
    "\n",
    "Don't be afraid to use StackOverflow for help  with this."
   ]
  },
  {
   "cell_type": "code",
   "execution_count": null,
   "metadata": {
    "colab": {},
    "colab_type": "code",
    "id": "cdAu1A3YoH_r"
   },
   "outputs": [],
   "source": [
    "df2 = df.rename(columns={'index':'boroughs', pd.NaT: 'postcode'})"
   ]
  },
  {
   "cell_type": "code",
   "execution_count": null,
   "metadata": {},
   "outputs": [],
   "source": [
    "df2.head()"
   ]
  },
  {
   "cell_type": "markdown",
   "metadata": {
    "colab_type": "text",
    "id": "o1uLbJAsoIjK"
   },
   "source": [
    "**2.3. Cleaning the data (part 2)**\n",
    "\n",
    "You might we have to **rename** a couple columns. How do you do this? The clue's pretty bold..."
   ]
  },
  {
   "cell_type": "code",
   "execution_count": null,
   "metadata": {
    "colab": {},
    "colab_type": "code",
    "id": "GKkmn1AnoVZS",
    "scrolled": false
   },
   "outputs": [],
   "source": [
    "df2.describe()"
   ]
  },
  {
   "cell_type": "code",
   "execution_count": null,
   "metadata": {},
   "outputs": [],
   "source": [
    "df3.infer_objects()"
   ]
  },
  {
   "cell_type": "code",
   "execution_count": null,
   "metadata": {},
   "outputs": [],
   "source": [
    "df3.iloc[:, 2:].astype(float)"
   ]
  },
  {
   "cell_type": "code",
   "execution_count": null,
   "metadata": {},
   "outputs": [],
   "source": [
    "df4 = df3.iloc[1:, :]"
   ]
  },
  {
   "cell_type": "code",
   "execution_count": null,
   "metadata": {},
   "outputs": [],
   "source": [
    "df4.describe()\n"
   ]
  },
  {
   "cell_type": "markdown",
   "metadata": {
    "colab_type": "text",
    "id": "jy8BzXHmoWEw"
   },
   "source": [
    "**2.4.Transforming the data**\n",
    "\n",
    "Remember what Wes McKinney said about tidy data? \n",
    "\n",
    "You might need to **melt** your DataFrame here. "
   ]
  },
  {
   "cell_type": "code",
   "execution_count": 66,
   "metadata": {
    "colab": {},
    "colab_type": "code",
    "id": "S2wM0qLuo2Zt"
   },
   "outputs": [
    {
     "data": {
      "text/plain": [
       "array(['boroughs', 'postcode', Timestamp('1995-01-01 00:00:00'),\n",
       "       Timestamp('1995-02-01 00:00:00'), Timestamp('1995-03-01 00:00:00'),\n",
       "       Timestamp('1995-04-01 00:00:00'), Timestamp('1995-05-01 00:00:00'),\n",
       "       Timestamp('1995-06-01 00:00:00'), Timestamp('1995-07-01 00:00:00'),\n",
       "       Timestamp('1995-08-01 00:00:00'), Timestamp('1995-09-01 00:00:00'),\n",
       "       Timestamp('1995-10-01 00:00:00'), Timestamp('1995-11-01 00:00:00'),\n",
       "       Timestamp('1995-12-01 00:00:00'), Timestamp('1996-01-01 00:00:00'),\n",
       "       Timestamp('1996-02-01 00:00:00'), Timestamp('1996-03-01 00:00:00'),\n",
       "       Timestamp('1996-04-01 00:00:00'), Timestamp('1996-05-01 00:00:00'),\n",
       "       Timestamp('1996-06-01 00:00:00'), Timestamp('1996-07-01 00:00:00'),\n",
       "       Timestamp('1996-08-01 00:00:00'), Timestamp('1996-09-01 00:00:00'),\n",
       "       Timestamp('1996-10-01 00:00:00'), Timestamp('1996-11-01 00:00:00'),\n",
       "       Timestamp('1996-12-01 00:00:00'), Timestamp('1997-01-01 00:00:00'),\n",
       "       Timestamp('1997-02-01 00:00:00'), Timestamp('1997-03-01 00:00:00'),\n",
       "       Timestamp('1997-04-01 00:00:00'), Timestamp('1997-05-01 00:00:00'),\n",
       "       Timestamp('1997-06-01 00:00:00'), Timestamp('1997-07-01 00:00:00'),\n",
       "       Timestamp('1997-08-01 00:00:00'), Timestamp('1997-09-01 00:00:00'),\n",
       "       Timestamp('1997-10-01 00:00:00'), Timestamp('1997-11-01 00:00:00'),\n",
       "       Timestamp('1997-12-01 00:00:00'), Timestamp('1998-01-01 00:00:00'),\n",
       "       Timestamp('1998-02-01 00:00:00'), Timestamp('1998-03-01 00:00:00'),\n",
       "       Timestamp('1998-04-01 00:00:00'), Timestamp('1998-05-01 00:00:00'),\n",
       "       Timestamp('1998-06-01 00:00:00'), Timestamp('1998-07-01 00:00:00'),\n",
       "       Timestamp('1998-08-01 00:00:00'), Timestamp('1998-09-01 00:00:00'),\n",
       "       Timestamp('1998-10-01 00:00:00'), Timestamp('1998-11-01 00:00:00'),\n",
       "       Timestamp('1998-12-01 00:00:00'), Timestamp('1999-01-01 00:00:00'),\n",
       "       Timestamp('1999-02-01 00:00:00'), Timestamp('1999-03-01 00:00:00'),\n",
       "       Timestamp('1999-04-01 00:00:00'), Timestamp('1999-05-01 00:00:00'),\n",
       "       Timestamp('1999-06-01 00:00:00'), Timestamp('1999-07-01 00:00:00'),\n",
       "       Timestamp('1999-08-01 00:00:00'), Timestamp('1999-09-01 00:00:00'),\n",
       "       Timestamp('1999-10-01 00:00:00'), Timestamp('1999-11-01 00:00:00'),\n",
       "       Timestamp('1999-12-01 00:00:00'), Timestamp('2000-01-01 00:00:00'),\n",
       "       Timestamp('2000-02-01 00:00:00'), Timestamp('2000-03-01 00:00:00'),\n",
       "       Timestamp('2000-04-01 00:00:00'), Timestamp('2000-05-01 00:00:00'),\n",
       "       Timestamp('2000-06-01 00:00:00'), Timestamp('2000-07-01 00:00:00'),\n",
       "       Timestamp('2000-08-01 00:00:00'), Timestamp('2000-09-01 00:00:00'),\n",
       "       Timestamp('2000-10-01 00:00:00'), Timestamp('2000-11-01 00:00:00'),\n",
       "       Timestamp('2000-12-01 00:00:00'), Timestamp('2001-01-01 00:00:00'),\n",
       "       Timestamp('2001-02-01 00:00:00'), Timestamp('2001-03-01 00:00:00'),\n",
       "       Timestamp('2001-04-01 00:00:00'), Timestamp('2001-05-01 00:00:00'),\n",
       "       Timestamp('2001-06-01 00:00:00'), Timestamp('2001-07-01 00:00:00'),\n",
       "       Timestamp('2001-08-01 00:00:00'), Timestamp('2001-09-01 00:00:00'),\n",
       "       Timestamp('2001-10-01 00:00:00'), Timestamp('2001-11-01 00:00:00'),\n",
       "       Timestamp('2001-12-01 00:00:00'), Timestamp('2002-01-01 00:00:00'),\n",
       "       Timestamp('2002-02-01 00:00:00'), Timestamp('2002-03-01 00:00:00'),\n",
       "       Timestamp('2002-04-01 00:00:00'), Timestamp('2002-05-01 00:00:00'),\n",
       "       Timestamp('2002-06-01 00:00:00'), Timestamp('2002-07-01 00:00:00'),\n",
       "       Timestamp('2002-08-01 00:00:00'), Timestamp('2002-09-01 00:00:00'),\n",
       "       Timestamp('2002-10-01 00:00:00'), Timestamp('2002-11-01 00:00:00'),\n",
       "       Timestamp('2002-12-01 00:00:00'), Timestamp('2003-01-01 00:00:00'),\n",
       "       Timestamp('2003-02-01 00:00:00'), Timestamp('2003-03-01 00:00:00'),\n",
       "       Timestamp('2003-04-01 00:00:00'), Timestamp('2003-05-01 00:00:00'),\n",
       "       Timestamp('2003-06-01 00:00:00'), Timestamp('2003-07-01 00:00:00'),\n",
       "       Timestamp('2003-08-01 00:00:00'), Timestamp('2003-09-01 00:00:00'),\n",
       "       Timestamp('2003-10-01 00:00:00'), Timestamp('2003-11-01 00:00:00'),\n",
       "       Timestamp('2003-12-01 00:00:00'), Timestamp('2004-01-01 00:00:00'),\n",
       "       Timestamp('2004-02-01 00:00:00'), Timestamp('2004-03-01 00:00:00'),\n",
       "       Timestamp('2004-04-01 00:00:00'), Timestamp('2004-05-01 00:00:00'),\n",
       "       Timestamp('2004-06-01 00:00:00'), Timestamp('2004-07-01 00:00:00'),\n",
       "       Timestamp('2004-08-01 00:00:00'), Timestamp('2004-09-01 00:00:00'),\n",
       "       Timestamp('2004-10-01 00:00:00'), Timestamp('2004-11-01 00:00:00'),\n",
       "       Timestamp('2004-12-01 00:00:00'), Timestamp('2005-01-01 00:00:00'),\n",
       "       Timestamp('2005-02-01 00:00:00'), Timestamp('2005-03-01 00:00:00'),\n",
       "       Timestamp('2005-04-01 00:00:00'), Timestamp('2005-05-01 00:00:00'),\n",
       "       Timestamp('2005-06-01 00:00:00'), Timestamp('2005-07-01 00:00:00'),\n",
       "       Timestamp('2005-08-01 00:00:00'), Timestamp('2005-09-01 00:00:00'),\n",
       "       Timestamp('2005-10-01 00:00:00'), Timestamp('2005-11-01 00:00:00'),\n",
       "       Timestamp('2005-12-01 00:00:00'), Timestamp('2006-01-01 00:00:00'),\n",
       "       Timestamp('2006-02-01 00:00:00'), Timestamp('2006-03-01 00:00:00'),\n",
       "       Timestamp('2006-04-01 00:00:00'), Timestamp('2006-05-01 00:00:00'),\n",
       "       Timestamp('2006-06-01 00:00:00'), Timestamp('2006-07-01 00:00:00'),\n",
       "       Timestamp('2006-08-01 00:00:00'), Timestamp('2006-09-01 00:00:00'),\n",
       "       Timestamp('2006-10-01 00:00:00'), Timestamp('2006-11-01 00:00:00'),\n",
       "       Timestamp('2006-12-01 00:00:00'), Timestamp('2007-01-01 00:00:00'),\n",
       "       Timestamp('2007-02-01 00:00:00'), Timestamp('2007-03-01 00:00:00'),\n",
       "       Timestamp('2007-04-01 00:00:00'), Timestamp('2007-05-01 00:00:00'),\n",
       "       Timestamp('2007-06-01 00:00:00'), Timestamp('2007-07-01 00:00:00'),\n",
       "       Timestamp('2007-08-01 00:00:00'), Timestamp('2007-09-01 00:00:00'),\n",
       "       Timestamp('2007-10-01 00:00:00'), Timestamp('2007-11-01 00:00:00'),\n",
       "       Timestamp('2007-12-01 00:00:00'), Timestamp('2008-01-01 00:00:00'),\n",
       "       Timestamp('2008-02-01 00:00:00'), Timestamp('2008-03-01 00:00:00'),\n",
       "       Timestamp('2008-04-01 00:00:00'), Timestamp('2008-05-01 00:00:00'),\n",
       "       Timestamp('2008-06-01 00:00:00'), Timestamp('2008-07-01 00:00:00'),\n",
       "       Timestamp('2008-08-01 00:00:00'), Timestamp('2008-09-01 00:00:00'),\n",
       "       Timestamp('2008-10-01 00:00:00'), Timestamp('2008-11-01 00:00:00'),\n",
       "       Timestamp('2008-12-01 00:00:00'), Timestamp('2009-01-01 00:00:00'),\n",
       "       Timestamp('2009-02-01 00:00:00'), Timestamp('2009-03-01 00:00:00'),\n",
       "       Timestamp('2009-04-01 00:00:00'), Timestamp('2009-05-01 00:00:00'),\n",
       "       Timestamp('2009-06-01 00:00:00'), Timestamp('2009-07-01 00:00:00'),\n",
       "       Timestamp('2009-08-01 00:00:00'), Timestamp('2009-09-01 00:00:00'),\n",
       "       Timestamp('2009-10-01 00:00:00'), Timestamp('2009-11-01 00:00:00'),\n",
       "       Timestamp('2009-12-01 00:00:00'), Timestamp('2010-01-01 00:00:00'),\n",
       "       Timestamp('2010-02-01 00:00:00'), Timestamp('2010-03-01 00:00:00'),\n",
       "       Timestamp('2010-04-01 00:00:00'), Timestamp('2010-05-01 00:00:00'),\n",
       "       Timestamp('2010-06-01 00:00:00'), Timestamp('2010-07-01 00:00:00'),\n",
       "       Timestamp('2010-08-01 00:00:00'), Timestamp('2010-09-01 00:00:00'),\n",
       "       Timestamp('2010-10-01 00:00:00'), Timestamp('2010-11-01 00:00:00'),\n",
       "       Timestamp('2010-12-01 00:00:00'), Timestamp('2011-01-01 00:00:00'),\n",
       "       Timestamp('2011-02-01 00:00:00'), Timestamp('2011-03-01 00:00:00'),\n",
       "       Timestamp('2011-04-01 00:00:00'), Timestamp('2011-05-01 00:00:00'),\n",
       "       Timestamp('2011-06-01 00:00:00'), Timestamp('2011-07-01 00:00:00'),\n",
       "       Timestamp('2011-08-01 00:00:00'), Timestamp('2011-09-01 00:00:00'),\n",
       "       Timestamp('2011-10-01 00:00:00'), Timestamp('2011-11-01 00:00:00'),\n",
       "       Timestamp('2011-12-01 00:00:00'), Timestamp('2012-01-01 00:00:00'),\n",
       "       Timestamp('2012-02-01 00:00:00'), Timestamp('2012-03-01 00:00:00'),\n",
       "       Timestamp('2012-04-01 00:00:00'), Timestamp('2012-05-01 00:00:00'),\n",
       "       Timestamp('2012-06-01 00:00:00'), Timestamp('2012-07-01 00:00:00'),\n",
       "       Timestamp('2012-08-01 00:00:00'), Timestamp('2012-09-01 00:00:00'),\n",
       "       Timestamp('2012-10-01 00:00:00'), Timestamp('2012-11-01 00:00:00'),\n",
       "       Timestamp('2012-12-01 00:00:00'), Timestamp('2013-01-01 00:00:00'),\n",
       "       Timestamp('2013-02-01 00:00:00'), Timestamp('2013-03-01 00:00:00'),\n",
       "       Timestamp('2013-04-01 00:00:00'), Timestamp('2013-05-01 00:00:00'),\n",
       "       Timestamp('2013-06-01 00:00:00'), Timestamp('2013-07-01 00:00:00'),\n",
       "       Timestamp('2013-08-01 00:00:00'), Timestamp('2013-09-01 00:00:00'),\n",
       "       Timestamp('2013-10-01 00:00:00'), Timestamp('2013-11-01 00:00:00'),\n",
       "       Timestamp('2013-12-01 00:00:00'), Timestamp('2014-01-01 00:00:00'),\n",
       "       Timestamp('2014-02-01 00:00:00'), Timestamp('2014-03-01 00:00:00'),\n",
       "       Timestamp('2014-04-01 00:00:00'), Timestamp('2014-05-01 00:00:00'),\n",
       "       Timestamp('2014-06-01 00:00:00'), Timestamp('2014-07-01 00:00:00'),\n",
       "       Timestamp('2014-08-01 00:00:00'), Timestamp('2014-09-01 00:00:00'),\n",
       "       Timestamp('2014-10-01 00:00:00'), Timestamp('2014-11-01 00:00:00'),\n",
       "       Timestamp('2014-12-01 00:00:00'), Timestamp('2015-01-01 00:00:00'),\n",
       "       Timestamp('2015-02-01 00:00:00'), Timestamp('2015-03-01 00:00:00'),\n",
       "       Timestamp('2015-04-01 00:00:00'), Timestamp('2015-05-01 00:00:00'),\n",
       "       Timestamp('2015-06-01 00:00:00'), Timestamp('2015-07-01 00:00:00'),\n",
       "       Timestamp('2015-08-01 00:00:00'), Timestamp('2015-09-01 00:00:00'),\n",
       "       Timestamp('2015-10-01 00:00:00'), Timestamp('2015-11-01 00:00:00'),\n",
       "       Timestamp('2015-12-01 00:00:00'), Timestamp('2016-01-01 00:00:00'),\n",
       "       Timestamp('2016-02-01 00:00:00'), Timestamp('2016-03-01 00:00:00'),\n",
       "       Timestamp('2016-04-01 00:00:00'), Timestamp('2016-05-01 00:00:00'),\n",
       "       Timestamp('2016-06-01 00:00:00'), Timestamp('2016-07-01 00:00:00'),\n",
       "       Timestamp('2016-08-01 00:00:00'), Timestamp('2016-09-01 00:00:00'),\n",
       "       Timestamp('2016-10-01 00:00:00'), Timestamp('2016-11-01 00:00:00'),\n",
       "       Timestamp('2016-12-01 00:00:00'), Timestamp('2017-01-01 00:00:00'),\n",
       "       Timestamp('2017-02-01 00:00:00'), Timestamp('2017-03-01 00:00:00'),\n",
       "       Timestamp('2017-04-01 00:00:00'), Timestamp('2017-05-01 00:00:00'),\n",
       "       Timestamp('2017-06-01 00:00:00'), Timestamp('2017-07-01 00:00:00'),\n",
       "       Timestamp('2017-08-01 00:00:00'), Timestamp('2017-09-01 00:00:00'),\n",
       "       Timestamp('2017-10-01 00:00:00'), Timestamp('2017-11-01 00:00:00'),\n",
       "       Timestamp('2017-12-01 00:00:00'), Timestamp('2018-01-01 00:00:00'),\n",
       "       Timestamp('2018-02-01 00:00:00'), Timestamp('2018-03-01 00:00:00'),\n",
       "       Timestamp('2018-04-01 00:00:00'), Timestamp('2018-05-01 00:00:00'),\n",
       "       Timestamp('2018-06-01 00:00:00'), Timestamp('2018-07-01 00:00:00'),\n",
       "       Timestamp('2018-08-01 00:00:00'), Timestamp('2018-09-01 00:00:00'),\n",
       "       Timestamp('2018-10-01 00:00:00'), Timestamp('2018-11-01 00:00:00'),\n",
       "       Timestamp('2018-12-01 00:00:00'), Timestamp('2019-01-01 00:00:00'),\n",
       "       Timestamp('2019-02-01 00:00:00'), Timestamp('2019-03-01 00:00:00'),\n",
       "       Timestamp('2019-04-01 00:00:00'), Timestamp('2019-05-01 00:00:00'),\n",
       "       Timestamp('2019-06-01 00:00:00'), Timestamp('2019-07-01 00:00:00'),\n",
       "       Timestamp('2019-08-01 00:00:00'), Timestamp('2019-09-01 00:00:00'),\n",
       "       Timestamp('2019-10-01 00:00:00'), Timestamp('2019-11-01 00:00:00'),\n",
       "       Timestamp('2019-12-01 00:00:00'), Timestamp('2020-01-01 00:00:00'),\n",
       "       Timestamp('2020-02-01 00:00:00'), Timestamp('2020-03-01 00:00:00'),\n",
       "       Timestamp('2020-04-01 00:00:00'), Timestamp('2020-05-01 00:00:00')],\n",
       "      dtype=object)"
      ]
     },
     "execution_count": 66,
     "metadata": {},
     "output_type": "execute_result"
    }
   ],
   "source": [
    "df4.columns.values\n"
   ]
  },
  {
   "cell_type": "markdown",
   "metadata": {
    "colab_type": "text",
    "id": "7kIsgAo7o3mf"
   },
   "source": [
    "Remember to make sure your column data types are all correct. Average prices, for example, should be floating point numbers... "
   ]
  },
  {
   "cell_type": "code",
   "execution_count": 68,
   "metadata": {
    "scrolled": true
   },
   "outputs": [],
   "source": [
    "from datetime import datetime\n",
    "\n",
    "df5.columns = [i.strftime('%Y-%m-%d') if isinstance(i, datetime) else i for i in df5.columns]"
   ]
  },
  {
   "cell_type": "code",
   "execution_count": null,
   "metadata": {},
   "outputs": [],
   "source": [
    "df5"
   ]
  },
  {
   "cell_type": "code",
   "execution_count": 74,
   "metadata": {
    "colab": {},
    "colab_type": "code",
    "id": "ZcR4IHbcpOaq",
    "scrolled": false
   },
   "outputs": [
    {
     "data": {
      "text/plain": [
       "1     2.951967e+05\n",
       "2     5.332665e+05\n",
       "3     3.426036e+05\n",
       "4     4.928454e+05\n",
       "5     4.434100e+05\n",
       "6     8.424104e+05\n",
       "7     3.702985e+05\n",
       "8     4.800505e+05\n",
       "9     3.966317e+05\n",
       "10    3.883443e+05\n",
       "11    5.446405e+05\n",
       "12    7.255253e+05\n",
       "13    5.515606e+05\n",
       "14    4.659075e+05\n",
       "15    3.702488e+05\n",
       "16    4.102661e+05\n",
       "17    3.966312e+05\n",
       "18    6.498241e+05\n",
       "19    1.363880e+06\n",
       "20    4.970910e+05\n",
       "21    5.115364e+05\n",
       "22    4.116290e+05\n",
       "23    5.122939e+05\n",
       "24    3.590225e+05\n",
       "25    4.225911e+05\n",
       "26    6.526654e+05\n",
       "27    5.042354e+05\n",
       "28    3.792626e+05\n",
       "29    4.465006e+05\n",
       "30    4.408594e+05\n",
       "31    5.966491e+05\n",
       "32    1.020025e+06\n",
       "dtype: float64"
      ]
     },
     "execution_count": 74,
     "metadata": {},
     "output_type": "execute_result"
    }
   ],
   "source": [
    "df_98 = df5.loc[:,'1998-01-01':'1998-12-01'].mean(axis=1)\n",
    "df_18 = df5.loc[:,'2018-01-01':'2018-12-01'].mean(axis=1)\n",
    "df_18\n"
   ]
  },
  {
   "cell_type": "markdown",
   "metadata": {
    "colab_type": "text",
    "id": "knLUXHLypOtw"
   },
   "source": [
    "**2.5. Cleaning the data (part 3)**\n",
    "\n",
    "Do we have an equal number of observations in the ID, Average Price, Month, and London Borough columns? Remember that there are only 32 London Boroughs. How many entries do you have in that column? \n",
    "\n",
    "Check out the contents of the London Borough column, and if you find null values, get rid of them however you see fit. "
   ]
  },
  {
   "cell_type": "code",
   "execution_count": 82,
   "metadata": {
    "colab": {},
    "colab_type": "code",
    "id": "BnvTW5a3p0fC"
   },
   "outputs": [
    {
     "data": {
      "text/plain": [
       "1     0.204223\n",
       "2     0.229453\n",
       "3     0.235351\n",
       "4     0.204309\n",
       "5     0.244213\n",
       "6     0.202620\n",
       "7     0.238033\n",
       "8     0.231940\n",
       "9     0.234551\n",
       "10    0.209950\n",
       "11    0.161335\n",
       "12    0.241674\n",
       "13    0.194756\n",
       "14    0.246354\n",
       "15    0.231202\n",
       "16    0.238080\n",
       "17    0.251483\n",
       "18    0.206439\n",
       "19    0.196755\n",
       "20    0.234162\n",
       "21    0.201704\n",
       "22    0.183512\n",
       "23    0.210914\n",
       "24    0.188488\n",
       "25    0.223655\n",
       "26    0.249678\n",
       "27    0.181275\n",
       "28    0.242806\n",
       "29    0.216137\n",
       "30    0.171387\n",
       "31    0.210185\n",
       "32    0.186791\n",
       "dtype: float64"
      ]
     },
     "execution_count": 82,
     "metadata": {},
     "output_type": "execute_result"
    }
   ],
   "source": [
    "df_ratio = df_98 / df_18\n",
    "df_ratio"
   ]
  },
  {
   "cell_type": "markdown",
   "metadata": {
    "colab_type": "text",
    "id": "PGEx6mJsp6dG"
   },
   "source": [
    "**2.6. Visualizing the data**\n",
    "\n",
    "To visualize the data, why not subset on a particular London Borough? Maybe do a line plot of Month against Average Price?"
   ]
  },
  {
   "cell_type": "code",
   "execution_count": 84,
   "metadata": {
    "colab": {},
    "colab_type": "code",
    "id": "nAg5pT9cqHAR"
   },
   "outputs": [
    {
     "data": {
      "text/plain": [
       "11    0.161335\n",
       "30    0.171387\n",
       "27    0.181275\n",
       "22    0.183512\n",
       "32    0.186791\n",
       "dtype: float64"
      ]
     },
     "execution_count": 84,
     "metadata": {},
     "output_type": "execute_result"
    }
   ],
   "source": [
    "smallest = df_ratio.nsmallest(5)\n",
    "smallest"
   ]
  },
  {
   "cell_type": "markdown",
   "metadata": {
    "colab_type": "text",
    "id": "aWTPqSJeqHnC"
   },
   "source": [
    "To limit the number of data points you have, you might want to extract the year from every month value your *Month* column. \n",
    "\n",
    "To this end, you *could* apply a ***lambda function***. Your logic could work as follows:\n",
    "1. look through the `Month` column\n",
    "2. extract the year from each individual value in that column \n",
    "3. store that corresponding year as separate column. \n",
    "\n",
    "Whether you go ahead with this is up to you. Just so long as you answer our initial brief: which boroughs of London have seen the greatest house price increase, on average, over the past two decades? "
   ]
  },
  {
   "cell_type": "code",
   "execution_count": 86,
   "metadata": {
    "colab": {},
    "colab_type": "code",
    "id": "e0DF92cyqnu8"
   },
   "outputs": [
    {
     "data": {
      "text/plain": [
       "1       Barking & Dagenham\n",
       "2                   Barnet\n",
       "3                   Bexley\n",
       "4                    Brent\n",
       "5                  Bromley\n",
       "6                   Camden\n",
       "7                  Croydon\n",
       "8                   Ealing\n",
       "9                  Enfield\n",
       "10               Greenwich\n",
       "11                 Hackney\n",
       "12    Hammersmith & Fulham\n",
       "13                Haringey\n",
       "14                  Harrow\n",
       "15                Havering\n",
       "16              Hillingdon\n",
       "17                Hounslow\n",
       "18               Islington\n",
       "19    Kensington & Chelsea\n",
       "20    Kingston upon Thames\n",
       "21                 Lambeth\n",
       "22                Lewisham\n",
       "23                  Merton\n",
       "24                  Newham\n",
       "25               Redbridge\n",
       "26    Richmond upon Thames\n",
       "27               Southwark\n",
       "28                  Sutton\n",
       "29           Tower Hamlets\n",
       "30          Waltham Forest\n",
       "31              Wandsworth\n",
       "32             Westminster\n",
       "Name: boroughs, dtype: object"
      ]
     },
     "execution_count": 86,
     "metadata": {},
     "output_type": "execute_result"
    }
   ],
   "source": [
    "df5['boroughs']\n"
   ]
  },
  {
   "cell_type": "markdown",
   "metadata": {
    "colab_type": "text",
    "id": "2knuTxAEqoJ4"
   },
   "source": [
    "**3. Modeling**\n",
    "\n",
    "Consider creating a function that will calculate a ratio of house prices, comparing the price of a house in 2018 to the price in 1998.\n",
    "\n",
    "Consider calling this function create_price_ratio.\n",
    "\n",
    "You'd want this function to:\n",
    "1. Take a filter of dfg, specifically where this filter constrains the London_Borough, as an argument. For example, one admissible argument should be: dfg[dfg['London_Borough']=='Camden'].\n",
    "2. Get the Average Price for that Borough, for the years 1998 and 2018.\n",
    "4. Calculate the ratio of the Average Price for 1998 divided by the Average Price for 2018.\n",
    "5. Return that ratio.\n",
    "\n",
    "Once you've written this function, you ultimately want to use it to iterate through all the unique London_Boroughs and work out the ratio capturing the difference of house prices between 1998 and 2018.\n",
    "\n",
    "Bear in mind: you don't have to write a function like this if you don't want to. If you can solve the brief otherwise, then great! \n",
    "\n",
    "***Hint***: This section should test the skills you acquired in:\n",
    "- Python Data Science Toolbox - Part One, all modules"
   ]
  },
  {
   "cell_type": "code",
   "execution_count": null,
   "metadata": {
    "colab": {},
    "colab_type": "code",
    "id": "cKTyr437UgDa"
   },
   "outputs": [],
   "source": []
  },
  {
   "cell_type": "markdown",
   "metadata": {
    "colab_type": "text",
    "id": "NzYUI7FxJpgv"
   },
   "source": [
    "### 4. Conclusion\n",
    "What can you conclude? Type out your conclusion below. \n",
    "\n",
    "Look back at your notebook. Think about how you might summarize what you have done, and prepare a quick presentation on it to your mentor at your next meeting. \n",
    "\n",
    "We hope you enjoyed this practical project. It should have consolidated your data hygiene and pandas skills by looking at a real-world problem involving just the kind of dataset you might encounter as a budding data scientist. Congratulations, and looking forward to seeing you at the next step in the course! "
   ]
  },
  {
   "cell_type": "markdown",
   "metadata": {},
   "source": [
    "**In Conclusion**\n",
    "\n",
    "By dividing *average_price_in_1998* by *average_price_in_2018* for each borough, we can conclude that the lower the ratio, the higher the price increase.\n",
    "\n",
    "The 5 boroughs that saw the highest price increase are in order:\n",
    "\n",
    "Hackney\n",
    "Waltham Forest\n",
    "Southwark\n",
    "Lewisham"
   ]
  },
  {
   "cell_type": "code",
   "execution_count": null,
   "metadata": {},
   "outputs": [],
   "source": []
  },
  {
   "cell_type": "code",
   "execution_count": null,
   "metadata": {},
   "outputs": [],
   "source": []
  }
 ],
 "metadata": {
  "colab": {
   "collapsed_sections": [],
   "name": "Springboard Data Science Career Track Unit 4 Challenge - Tier 3 Complete .ipynb",
   "provenance": []
  },
  "kernelspec": {
   "display_name": "Python 3",
   "language": "python",
   "name": "python3"
  },
  "language_info": {
   "codemirror_mode": {
    "name": "ipython",
    "version": 3
   },
   "file_extension": ".py",
   "mimetype": "text/x-python",
   "name": "python",
   "nbconvert_exporter": "python",
   "pygments_lexer": "ipython3",
   "version": "3.7.3"
  }
 },
 "nbformat": 4,
 "nbformat_minor": 1
}
